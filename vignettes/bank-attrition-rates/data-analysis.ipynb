{
 "cells": [
  {
   "cell_type": "markdown",
   "metadata": {},
   "source": [
    "Bank Attrition Rates - Data Analysis Vignette\n",
    "=============================================\n",
    "\n",
    "### Scenario \n",
    "A Bank manager is concerened with customer attrition rates. They collected data on the \n",
    "their customers which they would like publically release in order to crowd-source an \n",
    "attrition model. The attrition model must have a prediction accuracy greater than 90%.\n",
    "For disclosure purposes, the Bank's HR department informs the Manager that their \n",
    "customer's `Marital Status` cannot be released. Prior to releasing the data, \n",
    "the Manager must remove information regarding their client's Martial Status as well as \n",
    "any lingering relationships that may identify their `Marital Status`.\n",
    "\n",
    "### Notebook Details\n",
    "\n",
    "This notebook will cover Steps 1-4 and 8 outlined in the Vignette Template `README.md`.\n",
    "Steps 5-7 are outlined in `sdc-analysis.ipynb`.\n",
    "\n",
    "The goal of this notebook is to exemplify a scenario where a user must perform a \n",
    "regression or classification task on a dataset, whose performance will act as proxy for \n",
    "the utility of the data.\n",
    "\n",
    "These results will act as a baseline for how useful the data is in its original form.\n",
    "\n",
    "The final step will be to compare the baseline model's performance against another \n",
    "model that is trained with the modifidied, or mitigated, dataset generated in the \n",
    "`sdc-analysis.ipynb` notebook.\n",
    "\n",
    "These steps are only meant to be demonstrative on how to effectively use `pymasq`. Thus,\n",
    "some implementation choices, like model selection and train/test parameters, are only \n",
    "meant to be a guide and are not configured for optimal performance. Nonetheless, the\n",
    "steps presented should be applicable to a variety scenarios, datasets, models, etc."
   ]
  },
  {
   "cell_type": "code",
   "execution_count": 1,
   "metadata": {},
   "outputs": [],
   "source": [
    "import matplotlib.pyplot as plt\n",
    "import numpy as np \n",
    "import pandas as pd\n",
    "\n",
    "from pandas.api.types import is_numeric_dtype\n",
    "from sklearn.model_selection import cross_validate, StratifiedShuffleSplit\n",
    "from sklearn.ensemble import RandomForestClassifier    \n",
    "\n",
    "from pymasq.datasets import load_bank_attrition_rates\n",
    "from pymasq.preprocessing import EmbeddingsEncoder\n",
    "\n",
    "np.random.seed(1)"
   ]
  },
  {
   "cell_type": "markdown",
   "metadata": {},
   "source": [
    "### Step 1\n",
    "_Find a dataset (e.g., kaggle) with a properly defined regression or classification task_\n",
    "\n",
    "Load the Bank Attrition Rates dataset from `pymasq`, or other source (e.g., CSV), into a\n",
    "`pandas` `DataFrame`."
   ]
  },
  {
   "cell_type": "code",
   "execution_count": 2,
   "metadata": {},
   "outputs": [
    {
     "name": "stdout",
     "output_type": "stream",
     "text": [
      "(10127, 20)\n"
     ]
    },
    {
     "data": {
      "text/html": [
       "<div>\n",
       "<style scoped>\n",
       "    .dataframe tbody tr th:only-of-type {\n",
       "        vertical-align: middle;\n",
       "    }\n",
       "\n",
       "    .dataframe tbody tr th {\n",
       "        vertical-align: top;\n",
       "    }\n",
       "\n",
       "    .dataframe thead th {\n",
       "        text-align: right;\n",
       "    }\n",
       "</style>\n",
       "<table border=\"1\" class=\"dataframe\">\n",
       "  <thead>\n",
       "    <tr style=\"text-align: right;\">\n",
       "      <th></th>\n",
       "      <th>Attrition_Flag</th>\n",
       "      <th>Customer_Age</th>\n",
       "      <th>Gender</th>\n",
       "      <th>Dependent_count</th>\n",
       "      <th>Education_Level</th>\n",
       "      <th>Marital_Status</th>\n",
       "      <th>Income_Category</th>\n",
       "      <th>Card_Category</th>\n",
       "      <th>Months_on_book</th>\n",
       "      <th>Total_Relationship_Count</th>\n",
       "      <th>Months_Inactive_12_mon</th>\n",
       "      <th>Contacts_Count_12_mon</th>\n",
       "      <th>Credit_Limit</th>\n",
       "      <th>Total_Revolving_Bal</th>\n",
       "      <th>Avg_Open_To_Buy</th>\n",
       "      <th>Total_Amt_Chng_Q4_Q1</th>\n",
       "      <th>Total_Trans_Amt</th>\n",
       "      <th>Total_Trans_Ct</th>\n",
       "      <th>Total_Ct_Chng_Q4_Q1</th>\n",
       "      <th>Avg_Utilization_Ratio</th>\n",
       "    </tr>\n",
       "  </thead>\n",
       "  <tbody>\n",
       "    <tr>\n",
       "      <th>0</th>\n",
       "      <td>1</td>\n",
       "      <td>45</td>\n",
       "      <td>1</td>\n",
       "      <td>3</td>\n",
       "      <td>High School</td>\n",
       "      <td>Married</td>\n",
       "      <td>$60K - $80K</td>\n",
       "      <td>Blue</td>\n",
       "      <td>39</td>\n",
       "      <td>5</td>\n",
       "      <td>1</td>\n",
       "      <td>3</td>\n",
       "      <td>12691.0</td>\n",
       "      <td>777</td>\n",
       "      <td>11914.0</td>\n",
       "      <td>1.335</td>\n",
       "      <td>1144</td>\n",
       "      <td>42</td>\n",
       "      <td>1.625</td>\n",
       "      <td>0.061</td>\n",
       "    </tr>\n",
       "    <tr>\n",
       "      <th>1</th>\n",
       "      <td>1</td>\n",
       "      <td>49</td>\n",
       "      <td>0</td>\n",
       "      <td>5</td>\n",
       "      <td>Graduate</td>\n",
       "      <td>Single</td>\n",
       "      <td>Less than $40K</td>\n",
       "      <td>Blue</td>\n",
       "      <td>44</td>\n",
       "      <td>6</td>\n",
       "      <td>1</td>\n",
       "      <td>2</td>\n",
       "      <td>8256.0</td>\n",
       "      <td>864</td>\n",
       "      <td>7392.0</td>\n",
       "      <td>1.541</td>\n",
       "      <td>1291</td>\n",
       "      <td>33</td>\n",
       "      <td>3.714</td>\n",
       "      <td>0.105</td>\n",
       "    </tr>\n",
       "    <tr>\n",
       "      <th>2</th>\n",
       "      <td>1</td>\n",
       "      <td>51</td>\n",
       "      <td>1</td>\n",
       "      <td>3</td>\n",
       "      <td>Graduate</td>\n",
       "      <td>Married</td>\n",
       "      <td>$80K - $120K</td>\n",
       "      <td>Blue</td>\n",
       "      <td>36</td>\n",
       "      <td>4</td>\n",
       "      <td>1</td>\n",
       "      <td>0</td>\n",
       "      <td>3418.0</td>\n",
       "      <td>0</td>\n",
       "      <td>3418.0</td>\n",
       "      <td>2.594</td>\n",
       "      <td>1887</td>\n",
       "      <td>20</td>\n",
       "      <td>2.333</td>\n",
       "      <td>0.000</td>\n",
       "    </tr>\n",
       "    <tr>\n",
       "      <th>3</th>\n",
       "      <td>1</td>\n",
       "      <td>40</td>\n",
       "      <td>0</td>\n",
       "      <td>4</td>\n",
       "      <td>High School</td>\n",
       "      <td>Unknown</td>\n",
       "      <td>Less than $40K</td>\n",
       "      <td>Blue</td>\n",
       "      <td>34</td>\n",
       "      <td>3</td>\n",
       "      <td>4</td>\n",
       "      <td>1</td>\n",
       "      <td>3313.0</td>\n",
       "      <td>2517</td>\n",
       "      <td>796.0</td>\n",
       "      <td>1.405</td>\n",
       "      <td>1171</td>\n",
       "      <td>20</td>\n",
       "      <td>2.333</td>\n",
       "      <td>0.760</td>\n",
       "    </tr>\n",
       "    <tr>\n",
       "      <th>4</th>\n",
       "      <td>1</td>\n",
       "      <td>40</td>\n",
       "      <td>1</td>\n",
       "      <td>3</td>\n",
       "      <td>Uneducated</td>\n",
       "      <td>Married</td>\n",
       "      <td>$60K - $80K</td>\n",
       "      <td>Blue</td>\n",
       "      <td>21</td>\n",
       "      <td>5</td>\n",
       "      <td>1</td>\n",
       "      <td>0</td>\n",
       "      <td>4716.0</td>\n",
       "      <td>0</td>\n",
       "      <td>4716.0</td>\n",
       "      <td>2.175</td>\n",
       "      <td>816</td>\n",
       "      <td>28</td>\n",
       "      <td>2.500</td>\n",
       "      <td>0.000</td>\n",
       "    </tr>\n",
       "  </tbody>\n",
       "</table>\n",
       "</div>"
      ],
      "text/plain": [
       "   Attrition_Flag  Customer_Age  Gender  Dependent_count Education_Level  \\\n",
       "0               1            45       1                3     High School   \n",
       "1               1            49       0                5        Graduate   \n",
       "2               1            51       1                3        Graduate   \n",
       "3               1            40       0                4     High School   \n",
       "4               1            40       1                3      Uneducated   \n",
       "\n",
       "  Marital_Status Income_Category Card_Category  Months_on_book  \\\n",
       "0        Married     $60K - $80K          Blue              39   \n",
       "1         Single  Less than $40K          Blue              44   \n",
       "2        Married    $80K - $120K          Blue              36   \n",
       "3        Unknown  Less than $40K          Blue              34   \n",
       "4        Married     $60K - $80K          Blue              21   \n",
       "\n",
       "   Total_Relationship_Count  Months_Inactive_12_mon  Contacts_Count_12_mon  \\\n",
       "0                         5                       1                      3   \n",
       "1                         6                       1                      2   \n",
       "2                         4                       1                      0   \n",
       "3                         3                       4                      1   \n",
       "4                         5                       1                      0   \n",
       "\n",
       "   Credit_Limit  Total_Revolving_Bal  Avg_Open_To_Buy  Total_Amt_Chng_Q4_Q1  \\\n",
       "0       12691.0                  777          11914.0                 1.335   \n",
       "1        8256.0                  864           7392.0                 1.541   \n",
       "2        3418.0                    0           3418.0                 2.594   \n",
       "3        3313.0                 2517            796.0                 1.405   \n",
       "4        4716.0                    0           4716.0                 2.175   \n",
       "\n",
       "   Total_Trans_Amt  Total_Trans_Ct  Total_Ct_Chng_Q4_Q1  Avg_Utilization_Ratio  \n",
       "0             1144              42                1.625                  0.061  \n",
       "1             1291              33                3.714                  0.105  \n",
       "2             1887              20                2.333                  0.000  \n",
       "3             1171              20                2.333                  0.760  \n",
       "4              816              28                2.500                  0.000  "
      ]
     },
     "execution_count": 2,
     "metadata": {},
     "output_type": "execute_result"
    }
   ],
   "source": [
    "AF = \"Attrition_Flag\" # predict attrition\n",
    "orig_df = load_bank_attrition_rates()\n",
    "print(orig_df.shape)\n",
    "orig_df.head()"
   ]
  },
  {
   "cell_type": "markdown",
   "metadata": {},
   "source": [
    "### Step 2\n",
    "_Perform cursory analysis on dataset to understand data values, relationships, patterns, etc. Perform data cleaning as needed (e.g., remove NaNs or unecessary columns)._\n",
    "\n",
    "This step relies heavily on the user to understand their dataset's characteristics. \n",
    "\n",
    "In this notebook, we simply plot the histogram of numeric features and value counts of \n",
    "discrete features to get a sense of the distribution values of the data. \n",
    "\n",
    "This step will be inform the mitigation and metric selection process presented in\n",
    "`sdc-analysis.ipynb`. Thus, a more thorough analysis may be require to understand your \n",
    "dataset. \n",
    "\n",
    "See `sdc-analysis.ipynb` for more info."
   ]
  },
  {
   "cell_type": "code",
   "execution_count": 3,
   "metadata": {},
   "outputs": [
    {
     "data": {
      "image/png": "[encoded data removed]",
      "text/plain": [
       "<Figure size 1008x1008 with 20 Axes>"
      ]
     },
     "metadata": {
      "needs_background": "light"
     },
     "output_type": "display_data"
    }
   ],
   "source": [
    "\"\"\"\n",
    "Note: \n",
    "    The pymasq `bank-attrition-rates` dataset has already been cleaned \n",
    "    NaNs, unecessary columns, and had some discrete values binarized, so no additional\n",
    "    data cleaning/processing is required during this step.\n",
    "\"\"\"\n",
    "ncols = 4\n",
    "nrows = (orig_df.shape[1] + ncols - 1) // ncols\n",
    "fig, axes = plt.subplots(nrows, ncols, figsize=(14, 14))\n",
    "i, j = 0, 0\n",
    "for idx, col in enumerate(orig_df.columns):\n",
    "    if idx != 0 and idx % 4 == 0:\n",
    "        i += 1\n",
    "        j = 0\n",
    "    ax = axes[i, j]\n",
    "    try:\n",
    "        if is_numeric_dtype(orig_df[col]):\n",
    "            orig_df[[col]].hist(ax=ax)\n",
    "        else:\n",
    "            orig_df[[col]].value_counts().plot.bar(title=col, ax=ax)\n",
    "    except: \n",
    "        pass\n",
    "\n",
    "    j += 1\n",
    "        \n",
    "plt.show()"
   ]
  },
  {
   "cell_type": "markdown",
   "metadata": {},
   "source": [
    "### Step 3\n",
    "_Identify a Sensitive Variable (SV) which you intend to remove and who's relationship amongst remaining data features (columns) you wish to obfuscate. Currently, a SV must be categorical/discrete._\n",
    "\n",
    "This step relies heavily on the user's specific data use case and it is assumed the user\n",
    "knows what variable (i.e., feature/column) needs to be protected, and therfore, \n",
    "considered a Sensitive Variable. \n",
    "\n",
    "For more information on Sensitive Variables, refer to: [TODO: LINK]"
   ]
  },
  {
   "cell_type": "code",
   "execution_count": 4,
   "metadata": {},
   "outputs": [],
   "source": [
    "# Our scenario states that `Marital Status` cannot be released, and is therefore a \n",
    "# Sensitive Variable \n",
    "SV = \"Marital_Status\"\n",
    "xo = orig_df.copy()         # original\n",
    "xo = xo.drop(SV, axis=1)    # remove `Marital Status`"
   ]
  },
  {
   "cell_type": "markdown",
   "metadata": {},
   "source": [
    "### Step 4\n",
    "_Perform regression or classification task on original dataset, having removed the SV feature._\n",
    "\n",
    "This step performs the defined classification task. \n",
    "\n",
    "We use a `RandomForestClassifier` trained via Strattified Cross Validation. The latter\n",
    "choice addresses the class imbalance for the `Attrited_Flag` variable during training.\n",
    "\n",
    "> Note that neither of these models may be optimal for the task and neither have had \n",
    "their parameters optimized. Performance may differ with different models and/or Cross \n",
    "Validation strategy."
   ]
  },
  {
   "cell_type": "code",
   "execution_count": 5,
   "metadata": {},
   "outputs": [],
   "source": [
    "# Utility function to evaluate classification performance\n",
    "def eval_classifier(x):\n",
    "    y = x.pop(AF)\n",
    "\n",
    "    # `pymasq`'s `EmbeddingsEncoder` can automatically encode discrete as numeric features.\n",
    "    # for more informations, pleease review the `pymasq.preprocessing.EmbeddingsEncoder` docs [TODO: LINK]\n",
    "    x = EmbeddingsEncoder().encode(x) \n",
    "\n",
    "    clf = RandomForestClassifier(random_state=1)\n",
    "    cv = StratifiedShuffleSplit(n_splits=4, test_size=0.3, random_state=1)\n",
    "\n",
    "    scoring_metrics = (\n",
    "        \"accuracy\", \"balanced_accuracy\", \"f1\", \"f1_weighted\", \"f1_macro\",\n",
    "        \"precision\", \"precision_macro\", \"precision_weighted\", \n",
    "        \"recall\", \"recall_macro\", \"recall_weighted\", \"roc_auc\",\n",
    "    )\n",
    "\n",
    "    scores_df = pd.DataFrame(cross_validate(clf, x, y, cv=cv, scoring=scoring_metrics))\n",
    "\n",
    "    avg_cv_scores = pd.Series(\n",
    "        data=[f\"{mean:.4f} +/- {std:.4f}\" for mean, std in zip(scores_df.mean(), scores_df.std())], \n",
    "        index=scores_df.columns, \n",
    "        name=\"Average CV Scores\"\n",
    "    )\n",
    "    \n",
    "    return avg_cv_scores"
   ]
  },
  {
   "cell_type": "code",
   "execution_count": 6,
   "metadata": {},
   "outputs": [
    {
     "data": {
      "text/plain": [
       "fit_time                   0.8637 +/- 0.0195\n",
       "score_time                 0.1267 +/- 0.0059\n",
       "test_accuracy              0.9526 +/- 0.0048\n",
       "test_balanced_accuracy     0.8777 +/- 0.0158\n",
       "test_f1                    0.9722 +/- 0.0027\n",
       "test_f1_weighted           0.9508 +/- 0.0054\n",
       "test_f1_macro              0.9054 +/- 0.0110\n",
       "test_precision             0.9569 +/- 0.0056\n",
       "test_precision_macro       0.9408 +/- 0.0040\n",
       "test_precision_weighted    0.9518 +/- 0.0048\n",
       "test_recall                0.9880 +/- 0.0011\n",
       "test_recall_macro          0.8777 +/- 0.0158\n",
       "test_recall_weighted       0.9526 +/- 0.0048\n",
       "test_roc_auc               0.9846 +/- 0.0009\n",
       "Name: Average CV Scores, dtype: object"
      ]
     },
     "execution_count": 6,
     "metadata": {},
     "output_type": "execute_result"
    }
   ],
   "source": [
    "# Note: Run `Step 3` before running or re-running this Step.\n",
    "# These results are the scores to beat in Step 8.\n",
    "eval_classifier(xo)"
   ]
  },
  {
   "cell_type": "markdown",
   "metadata": {},
   "source": [
    "> Note: Steps 5 - 7 are performed in `sdc-analysis.ipynb` and are skipped in this notebook"
   ]
  },
  {
   "cell_type": "markdown",
   "metadata": {},
   "source": [
    "### Step 8\n",
    "_Perform regression or classification task on modified dataset, having removed the SV feature._\n",
    "\n",
    "Here, we load the modified datasets that were created in `sdc-analysis.ipynb`:\n",
    "- `manual-mod-bank-attrition-rates.csv`\n",
    "- `auto-mod-bank-attrition-rates.csv`\n",
    "\n",
    "We then train the same `RandomForestClassifier` model on the modified dataset and \n",
    "compare its performance with the original model shown in `Step 4`, above."
   ]
  },
  {
   "cell_type": "code",
   "execution_count": 7,
   "metadata": {},
   "outputs": [],
   "source": [
    "xm_manual = pd.read_csv(\"manual-mod-bank-attrition-rates.csv\")\n",
    "xm_auto = pd.read_csv(\"auto-mod-bank-attrition-rates.csv\")\n",
    "\n",
    "xm_manual = xm_manual.drop(SV, axis=1)\n",
    "xm_auto = xm_auto.drop(SV, axis=1)"
   ]
  },
  {
   "cell_type": "code",
   "execution_count": 8,
   "metadata": {},
   "outputs": [
    {
     "data": {
      "text/plain": [
       "fit_time                   0.9472 +/- 0.0188\n",
       "score_time                 0.1255 +/- 0.0040\n",
       "test_accuracy              0.9597 +/- 0.0035\n",
       "test_balanced_accuracy     0.8875 +/- 0.0136\n",
       "test_f1                    0.9764 +/- 0.0020\n",
       "test_f1_weighted           0.9579 +/- 0.0040\n",
       "test_f1_macro              0.9189 +/- 0.0082\n",
       "test_precision             0.9596 +/- 0.0051\n",
       "test_precision_macro       0.9602 +/- 0.0056\n",
       "test_precision_weighted    0.9598 +/- 0.0033\n",
       "test_recall                0.9938 +/- 0.0024\n",
       "test_recall_macro          0.8875 +/- 0.0136\n",
       "test_recall_weighted       0.9597 +/- 0.0035\n",
       "test_roc_auc               0.9886 +/- 0.0019\n",
       "Name: Average CV Scores, dtype: object"
      ]
     },
     "execution_count": 8,
     "metadata": {},
     "output_type": "execute_result"
    }
   ],
   "source": [
    "eval_classifier(xm_manual)"
   ]
  },
  {
   "cell_type": "code",
   "execution_count": 9,
   "metadata": {},
   "outputs": [
    {
     "data": {
      "text/plain": [
       "fit_time                   0.9477 +/- 0.0327\n",
       "score_time                 0.1147 +/- 0.0029\n",
       "test_accuracy              0.9743 +/- 0.0024\n",
       "test_balanced_accuracy     0.9317 +/- 0.0060\n",
       "test_f1                    0.9849 +/- 0.0014\n",
       "test_f1_weighted           0.9738 +/- 0.0025\n",
       "test_f1_macro              0.9503 +/- 0.0049\n",
       "test_precision             0.9754 +/- 0.0021\n",
       "test_precision_macro       0.9717 +/- 0.0035\n",
       "test_precision_weighted    0.9742 +/- 0.0025\n",
       "test_recall                0.9945 +/- 0.0008\n",
       "test_recall_macro          0.9317 +/- 0.0060\n",
       "test_recall_weighted       0.9743 +/- 0.0024\n",
       "test_roc_auc               0.9951 +/- 0.0010\n",
       "Name: Average CV Scores, dtype: object"
      ]
     },
     "execution_count": 9,
     "metadata": {},
     "output_type": "execute_result"
    }
   ],
   "source": [
    "eval_classifier(xm_auto)"
   ]
  },
  {
   "cell_type": "markdown",
   "metadata": {},
   "source": [
    "### Conclusion\n",
    "As in this notebook and `sdc-analysis.ipynb`, we were succesfully able to mitigate the \n",
    "attribute disclosure risk associated with `Marital Status`, the Sensitive Variable, \n",
    "while still maintaining the overall utility of the data, as shown by the classifier's \n",
    "performance, both in the manual (`xm_manual`) and automated (`xm_auto`) case, to predict\n",
    "attrition rates."
   ]
  }
 ],
 "metadata": {
  "interpreter": {
   "hash": "23d50b4077ab78aec47b5a2dcb4318bfc9edbc65b5d9da66144fdd389846f140"
  },
  "kernelspec": {
   "display_name": "Python 3.8.5 64-bit ('masq38': conda)",
   "language": "python",
   "name": "python3"
  },
  "language_info": {
   "codemirror_mode": {
    "name": "ipython",
    "version": 3
   },
   "file_extension": ".py",
   "mimetype": "text/x-python",
   "name": "python",
   "nbconvert_exporter": "python",
   "pygments_lexer": "ipython3",
   "version": "3.8.5"
  },
  "orig_nbformat": 4
 },
 "nbformat": 4,
 "nbformat_minor": 2
}
